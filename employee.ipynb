{
 "cells": [
  {
   "cell_type": "code",
   "execution_count": 1,
   "id": "606b83ce",
   "metadata": {},
   "outputs": [
    {
     "name": "stdout",
     "output_type": "stream",
     "text": [
      "Alice - Developmer (IT)\n",
      "Jhon - Analyst (IT)\n",
      "сообщение от Alice - Developmer (IT) для Bob - Manager (HR): Hello Bob\n",
      "сообщение от Bob - Manager (HR) для Alice - Developmer (IT): Hello\n"
     ]
    }
   ],
   "source": [
    "from abc import ABC,abstractmethod\n",
    "\n",
    "class Employee:\n",
    "    def __init__(self,name,position,departament) -> None:\n",
    "        self.name = name\n",
    "        self.position = position\n",
    "        self.departament = departament\n",
    "\n",
    "    def __repr__(self):\n",
    "        return f\"{self.name} - {self.position} ({self.departament})\"\n",
    "    \n",
    "class Departament:\n",
    "    def __init__(self,name) -> None:\n",
    "        self.name = name\n",
    "        self.employees = []\n",
    "\n",
    "    def add_employee(self,employee):\n",
    "        self.employees.append(employee)\n",
    "\n",
    "    def get_iterator(self):\n",
    "        return EmployeeIterator(self)\n",
    "\n",
    "class EmployeeIterator:\n",
    "    def __init__(self,departament) -> None:\n",
    "        self.departament = departament\n",
    "        self.index = 0\n",
    "\n",
    "    def __iter__(self):\n",
    "        return self\n",
    "\n",
    "    def __next__(self):\n",
    "        if self.index < len(self.departament.employees):\n",
    "            employee = self.departament.employees[self.index]\n",
    "            self.index += 1\n",
    "            return employee\n",
    "        else:\n",
    "            raise StopIteration\n",
    "        \n",
    "class Mediator(ABC):\n",
    "    @abstractmethod\n",
    "    def send_messege(self,from_employee,to_employee,messege): ...\n",
    "\n",
    "class DepartamentMediator(Mediator):\n",
    "    def send_messege(self, from_employee, to_employee, messege):\n",
    "        print(f\"сообщение от {from_employee} для {to_employee}: {messege}\")\n",
    "\n",
    "employee1 = Employee(\"Alice\",\"Developmer\",\"IT\")\n",
    "employee2 = Employee(\"Bob\",\"Manager\",\"HR\")\n",
    "employee3 = Employee(\"Jhon\",\"Analyst\",\"IT\")\n",
    "employee4 = Employee(\"David\",\"Manager\",\"Finance\")\n",
    "\n",
    "it_departament = Departament(\"IT\")\n",
    "hr_departament = Departament(\"HR\")\n",
    "finance_departament = Departament(\"Finance\")\n",
    "\n",
    "it_departament.add_employee(employee1)\n",
    "it_departament.add_employee(employee3)\n",
    "hr_departament.add_employee(employee2)\n",
    "finance_departament.add_employee(employee4)\n",
    "\n",
    "it_iterator = it_departament.get_iterator()\n",
    "\n",
    "for employee in it_iterator:\n",
    "    print(employee)\n",
    "\n",
    "mediator = DepartamentMediator()\n",
    "\n",
    "mediator.send_messege(employee1,employee2,\"Hello Bob\")\n",
    "mediator.send_messege(employee2,employee1,\"Hello\")"
   ]
  }
 ],
 "metadata": {
  "kernelspec": {
   "display_name": "Python 3",
   "language": "python",
   "name": "python3"
  },
  "language_info": {
   "codemirror_mode": {
    "name": "ipython",
    "version": 3
   },
   "file_extension": ".py",
   "mimetype": "text/x-python",
   "name": "python",
   "nbconvert_exporter": "python",
   "pygments_lexer": "ipython3",
   "version": "3.11.9"
  }
 },
 "nbformat": 4,
 "nbformat_minor": 5
}
