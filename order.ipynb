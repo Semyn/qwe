{
 "cells": [
  {
   "cell_type": "code",
   "execution_count": 1,
   "id": "1809a435",
   "metadata": {},
   "outputs": [
    {
     "name": "stdout",
     "output_type": "stream",
     "text": [
      "Обработка обычного заказа...\n",
      "Обработка срочного заказа...\n",
      "Обработка международного заказа...\n"
     ]
    }
   ],
   "source": [
    "from abc import ABC, abstractmethod\n",
    "\n",
    "class Order(ABC):\n",
    "    @abstractmethod\n",
    "    def process_order(self):\n",
    "        pass\n",
    "\n",
    "class RegularOrder(Order):\n",
    "    def process_order(self):\n",
    "        return \"Обработка обычного заказа...\"\n",
    "\n",
    "class UrgentOrder(Order):\n",
    "    def process_order(self):\n",
    "        return \"Обработка срочного заказа...\"\n",
    "\n",
    "\n",
    "class InternationalOrder(Order):\n",
    "    def process_order(self):\n",
    "        return \"Обработка международного заказа...\"\n",
    "\n",
    "class OrderFactory(ABC):\n",
    "    @abstractmethod\n",
    "    def create_order(self) -> Order:\n",
    "        pass\n",
    "\n",
    "class RegularOrderFactory(OrderFactory):\n",
    "    def create_order(self) -> Order:\n",
    "        return RegularOrder()\n",
    "\n",
    "class UrgentOrderFactory(OrderFactory):\n",
    "    def create_order(self) -> Order:\n",
    "        return UrgentOrder()\n",
    "\n",
    "class InternationalOrderFactory(OrderFactory):\n",
    "    def create_order(self) -> Order:\n",
    "        return InternationalOrder()\n",
    "\n",
    "def process_orders():\n",
    "    factories = [\n",
    "        RegularOrderFactory(),\n",
    "        UrgentOrderFactory(),\n",
    "        InternationalOrderFactory()\n",
    "    ]\n",
    "\n",
    "    for factory in factories:\n",
    "        order = factory.create_order()\n",
    "        print(order.process_order())\n",
    "\n",
    "process_orders()"
   ]
  }
 ],
 "metadata": {
  "kernelspec": {
   "display_name": "Python 3",
   "language": "python",
   "name": "python3"
  },
  "language_info": {
   "codemirror_mode": {
    "name": "ipython",
    "version": 3
   },
   "file_extension": ".py",
   "mimetype": "text/x-python",
   "name": "python",
   "nbconvert_exporter": "python",
   "pygments_lexer": "ipython3",
   "version": "3.11.9"
  }
 },
 "nbformat": 4,
 "nbformat_minor": 5
}
