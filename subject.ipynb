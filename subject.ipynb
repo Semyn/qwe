{
 "cells": [
  {
   "cell_type": "code",
   "execution_count": 1,
   "id": "b9eac4f2",
   "metadata": {},
   "outputs": [
    {
     "name": "stdout",
     "output_type": "stream",
     "text": [
      "пользователь онлайн\n",
      "наблюдатель 1 получил уведомление о смене состояния\n",
      "наблюдатель 2 получил уведомление о смене состояния\n",
      "пользователь отошел\n",
      "наблюдатель 1 получил уведомление о смене состояния\n",
      "наблюдатель 2 получил уведомление о смене состояния\n",
      "пользователь не беспокоит\n",
      "уведомления не будут отправлены\n"
     ]
    }
   ],
   "source": [
    "from abc import ABC, abstractmethod\n",
    "\n",
    "class Observer(ABC):\n",
    "    @abstractmethod\n",
    "    def update(self, state): ...\n",
    "\n",
    "class Subject(ABC):\n",
    "    def __init__(self) -> None:\n",
    "        self.__observers = []\n",
    "    \n",
    "    def add_observer(self, observer: Observer):\n",
    "        self.__observers.append(observer)\n",
    "    \n",
    "    def remove_observer(self, observer: Observer):\n",
    "        self.__observers.remove(observer)\n",
    "    \n",
    "    def notify_observers(self):\n",
    "        for observer in self.__observers:\n",
    "            observer.update(self)\n",
    "\n",
    "class State(ABC):\n",
    "    @abstractmethod\n",
    "    def handle(self, subject): ...\n",
    "\n",
    "class OnlineState(State):\n",
    "    def handle(self,subject):\n",
    "        print(\"пользователь онлайн\")\n",
    "        subject.notify_observers()\n",
    "    \n",
    "class AwayState(State):\n",
    "    def handle(self,subject):\n",
    "        print(\"пользователь отошел\")\n",
    "        subject.notify_observers()\n",
    "\n",
    "class DoNotDistubState(State):\n",
    "    def handle(self,subject):\n",
    "        print(\"пользователь не беспокоит\")\n",
    "        print(\"уведомления не будут отправлены\")\n",
    "\n",
    "class User(Subject):\n",
    "    def __init__(self) -> None:\n",
    "        super().__init__()\n",
    "        self.__state = None\n",
    "\n",
    "    def set_state(self,state:State):\n",
    "        self.__state = state\n",
    "        self.__state.handle(self)\n",
    "\n",
    "class UserObserver(Observer):\n",
    "    def __init__(self,name:str) -> None:\n",
    "        self.name = name\n",
    "\n",
    "    def update(self,state):\n",
    "        print(f\"{self.name} получил уведомление о смене состояния\")\n",
    "\n",
    "user = User()\n",
    "user.add_observer(UserObserver(\"наблюдатель 1\"))\n",
    "user.add_observer(UserObserver(\"наблюдатель 2\"))\n",
    "\n",
    "user.set_state(OnlineState())\n",
    "user.set_state(AwayState())\n",
    "user.set_state(DoNotDistubState())\n"
   ]
  }
 ],
 "metadata": {
  "kernelspec": {
   "display_name": "Python 3",
   "language": "python",
   "name": "python3"
  },
  "language_info": {
   "codemirror_mode": {
    "name": "ipython",
    "version": 3
   },
   "file_extension": ".py",
   "mimetype": "text/x-python",
   "name": "python",
   "nbconvert_exporter": "python",
   "pygments_lexer": "ipython3",
   "version": "3.11.9"
  }
 },
 "nbformat": 4,
 "nbformat_minor": 5
}
