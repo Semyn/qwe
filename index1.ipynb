{
 "cells": [
  {
   "cell_type": "code",
   "execution_count": null,
   "metadata": {},
   "outputs": [],
   "source": [
    "import heapq\n",
    "\n",
    "class PriorityQueue:\n",
    "    def __init__(self): \n",
    "        self.__queue = [] \n",
    "        self.counter = 0\n",
    "\n",
    "    def enqueue(self, item, priority):\n",
    "        heapq.heappush(self.__queue, (priority, self.counter, item))\n",
    "        self.counter += 1\n",
    "    \n",
    "    def is_empty(self):\n",
    "        return len(self.__queue) == 0\n",
    "\n",
    "    def dequeu(self):\n",
    "        if not self.is_empty():\n",
    "            return heapq.heappop(self.__queue)[2]\n",
    "        else:\n",
    "            raise IndexError(\"Из очереди невозможно удалить элементы. Очередь пуста.\")\n",
    "        \n",
    "pq = PriorityQueue()\n",
    "\n",
    "pq.enqueue(\"task1\", 3)\n",
    "pq.enqueue(\"task2\", 1)\n",
    "pq.enqueue(\"task3\", 2)\n",
    "\n",
    "print(pq.dequeu())\n",
    "print(pq.dequeu())\n",
    "print(pq.dequeu())"
   ]
  }
 ],
 "metadata": {
  "language_info": {
   "name": "python"
  }
 },
 "nbformat": 4,
 "nbformat_minor": 2
}
