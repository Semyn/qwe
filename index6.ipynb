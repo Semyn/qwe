{
 "cells": [
  {
   "cell_type": "code",
   "execution_count": 1,
   "metadata": {},
   "outputs": [
    {
     "name": "stdout",
     "output_type": "stream",
     "text": [
      "страна: US\n",
      " city: New York City\n",
      " lot,lon: 40.7143,-74.0060\n",
      " organizacia AS22252 The City of New York\n"
     ]
    }
   ],
   "source": [
    "import requests\n",
    "\n",
    "ip = \"161.185.160.93\"\n",
    "url = \"https://ipinfo.io/\" + ip + \"/geo\"\n",
    "\n",
    "response = requests.get(url)\n",
    "\n",
    "r = response.json()\n",
    "print(f\"страна: {r['country']}\\n city: {r['city']}\\n lot,lon: {r['loc']}\\n organizacia {r['org']}\")"
   ]
  }
 ],
 "metadata": {
  "kernelspec": {
   "display_name": "Python 3",
   "language": "python",
   "name": "python3"
  },
  "language_info": {
   "codemirror_mode": {
    "name": "ipython",
    "version": 3
   },
   "file_extension": ".py",
   "mimetype": "text/x-python",
   "name": "python",
   "nbconvert_exporter": "python",
   "pygments_lexer": "ipython3",
   "version": "3.11.9"
  }
 },
 "nbformat": 4,
 "nbformat_minor": 2
}
