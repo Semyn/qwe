{
 "cells": [
  {
   "cell_type": "code",
   "execution_count": 1,
   "id": "2fee4f5e",
   "metadata": {},
   "outputs": [
    {
     "name": "stdout",
     "output_type": "stream",
     "text": [
      "True\n",
      "Book 1 выдана пользователю 1\n",
      "book 1 была возвращена пользователем 1\n"
     ]
    }
   ],
   "source": [
    "class User:\n",
    "    def __init__(self,user_id,user_type) -> None:\n",
    "        self.user_id = user_id\n",
    "        self.user_type = user_type\n",
    "\n",
    "    def has_permission(self,permission):\n",
    "        return self.user_type in permission\n",
    "    \n",
    "class BookFlyweight:\n",
    "    def __init__(self,title,author) -> None:\n",
    "        self.title = title\n",
    "        self.author = author\n",
    "        self.issued = False\n",
    "\n",
    "    def is_issued(self):\n",
    "        return self.issued\n",
    "    \n",
    "    def issue(self):\n",
    "        self.issued = True\n",
    "\n",
    "    def return_book(self):\n",
    "        self.issued = False\n",
    "\n",
    "class BookProxy:\n",
    "    def __init__(self,books):\n",
    "        self.books = books\n",
    "\n",
    "    def add_book(self,book_id,title,author):\n",
    "        if book_id not in self.books:\n",
    "            self.books[book_id] = BookFlyweight(title,author)\n",
    "\n",
    "    def check_availability(self,book_id):\n",
    "        return book_id in self.books and not self.books[book_id].is_issued()\n",
    "\n",
    "    def issue_book(self,book_id,user_id):\n",
    "        if self.check_availability(book_id):\n",
    "            print(f\"Book {book_id} выдана пользователю {user_id}\")\n",
    "\n",
    "        else:\n",
    "            print(f\"book {book_id} не доступна\")\n",
    "    \n",
    "    def return_book(self,book_id,user_id):\n",
    "        print(f\"book {book_id} была возвращена пользователем {user_id}\")\n",
    "\n",
    "\n",
    "class LibraryFacade:\n",
    "    def __init__(self) -> None:\n",
    "        self.users = {}\n",
    "        self.books = {}\n",
    "        self.book_proxy = BookProxy(self.books)\n",
    "\n",
    "    def add_book(self,book_id,title,author):\n",
    "        self.book_proxy.add_book(book_id,title,author)\n",
    "\n",
    "    def issue_book(self,book_id,user_id):\n",
    "        self.book_proxy.issue_book(book_id,user_id)\n",
    "\n",
    "    def return_book(self,book_id,user_id):\n",
    "        self.book_proxy.return_book(book_id,user_id)\n",
    "\n",
    "    def check_book_availability(self,book_id):\n",
    "        return self.book_proxy.check_availability(book_id)\n",
    "\n",
    "library = LibraryFacade()\n",
    "\n",
    "library.add_book(1,\"title 1\",\"author 1\")\n",
    "library.add_book(2,\"title 2\",\"author 2\")\n",
    "\n",
    "user1 = User(1,\"reader\")\n",
    "user2 = User(2,\"librian\")\n",
    "\n",
    "print(library.check_book_availability(1))\n",
    "\n",
    "library.issue_book(1,user1.user_id)\n",
    "library.return_book(1,user1.user_id)"
   ]
  }
 ],
 "metadata": {
  "kernelspec": {
   "display_name": "Python 3",
   "language": "python",
   "name": "python3"
  },
  "language_info": {
   "codemirror_mode": {
    "name": "ipython",
    "version": 3
   },
   "file_extension": ".py",
   "mimetype": "text/x-python",
   "name": "python",
   "nbconvert_exporter": "python",
   "pygments_lexer": "ipython3",
   "version": "3.11.9"
  }
 },
 "nbformat": 4,
 "nbformat_minor": 5
}
