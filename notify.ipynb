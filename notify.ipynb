{
 "cells": [
  {
   "cell_type": "code",
   "execution_count": 1,
   "id": "29d4b056",
   "metadata": {},
   "outputs": [
    {
     "name": "stdout",
     "output_type": "stream",
     "text": [
      "[email] sending: Система перегружена\n",
      "[sms] sending: Низкий заряд батареи\n"
     ]
    }
   ],
   "source": [
    "from abc import ABC, abstractmethod\n",
    "\n",
    "\n",
    "class NotificationSender(ABC):\n",
    "    @abstractmethod\n",
    "    def send(self, message) -> str: ...\n",
    "\n",
    "class EmailNotification(NotificationSender):\n",
    "    def send(self, message):\n",
    "        return f\"[email] sending: {message}\"\n",
    "    \n",
    "class SMSNotification(NotificationSender):\n",
    "    def send(self, message):\n",
    "        return f\"[sms] sending: {message}\"\n",
    "\n",
    "class Notification(ABC):\n",
    "    def __init__(self, sender) -> None:\n",
    "        self.sender = sender\n",
    "    \n",
    "    def notify(self, message: str): ...\n",
    "\n",
    "class AlertNotification(Notification):\n",
    "    def notify(self, message: str):\n",
    "        return self.sender.send(message)\n",
    "\n",
    "email = EmailNotification()\n",
    "sms = SMSNotification()\n",
    "\n",
    "alert = AlertNotification(email)\n",
    "print(alert.notify(\"Система перегружена\"))\n",
    "\n",
    "alert.sender = sms\n",
    "print(alert.notify(\"Низкий заряд батареи\"))"
   ]
  }
 ],
 "metadata": {
  "kernelspec": {
   "display_name": "Python 3",
   "language": "python",
   "name": "python3"
  },
  "language_info": {
   "codemirror_mode": {
    "name": "ipython",
    "version": 3
   },
   "file_extension": ".py",
   "mimetype": "text/x-python",
   "name": "python",
   "nbconvert_exporter": "python",
   "pygments_lexer": "ipython3",
   "version": "3.11.9"
  }
 },
 "nbformat": 4,
 "nbformat_minor": 5
}
